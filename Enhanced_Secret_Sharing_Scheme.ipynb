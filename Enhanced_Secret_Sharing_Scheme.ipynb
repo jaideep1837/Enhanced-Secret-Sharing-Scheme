{
 "cells": [
  {
   "cell_type": "markdown",
   "id": "d0556a7e-a40c-45f0-9204-efe65eb8c44e",
   "metadata": {},
   "source": [
    "# Enhanced Secret Sharing Scheme (ESSS)\n",
    "This notebook contains cryptographic functions, helper utilities, and interpolation methods for secure secret sharing."
   ]
  },
  {
   "cell_type": "markdown",
   "id": "f81a5ff2-7282-4e80-96ce-c81c0a18b5c3",
   "metadata": {},
   "source": [
    "## Cryptographic Setup\n",
    "This section contains necessary imports for cryptographic operations using Python's `pycryptodome` library."
   ]
  },
  {
   "cell_type": "code",
   "execution_count": 1,
   "id": "15a6ff0c-657b-4b3f-991b-f35ec30c7c7d",
   "metadata": {},
   "outputs": [],
   "source": [
    "from Crypto.Cipher import DES, DES3, AES, ARC4, CAST\n",
    "from Crypto.Random import get_random_bytes\n",
    "from Crypto.Util.Padding import pad, unpad\n",
    "import random"
   ]
  },
  {
   "cell_type": "markdown",
   "id": "10ceaca2-92d6-492f-9a11-299aee626246",
   "metadata": {},
   "source": [
    "## Helper Functions\n",
    "\n",
    "This section contains the essential utility functions used throughout the program. These functions are designed to perform specific tasks, such as conversions, mathematical computations, encryption, decryption, or support for the main algorithm. They help in modularizing the code, making it more readable, reusable, and easier to maintain.\n",
    "\n",
    "### List of Helper Functions:\n",
    "1. **`encryption`**: Encrypts the given data using a specified encryption algorithm or technique.\n",
    "2. **`decryption`**: Decrypts the encrypted data back to its original form.\n",
    "3. **`byte_to_decimal`**: Converts a bytes object into its decimal integer representation.\n",
    "4. **`decimal_to_byte`**: Converts a decimal integer into its bytes representation.\n",
    "5. **`lagrange_interpolation`**: Reconstructs the secret or evaluates a polynomial at a given point using Lagrange Interpolation from the provided points (shares).\n",
    "6. **`get_polynomial`**: Generates the coefficients of a polynomial with a secret as the constant term.\n",
    "7. **`get_uniqueID_and_share`**: Generates unique IDs and their corresponding shares using a polynomial.\n",
    "\n",
    "\n",
    "These functions act as building blocks and are integral to the execution of the main logic."
   ]
  },
  {
   "cell_type": "code",
   "execution_count": 2,
   "id": "44232360-5916-453f-b6e1-00311e712dba",
   "metadata": {},
   "outputs": [],
   "source": [
    "def encryption(data, encryption_func='DES'):\n",
    "    \"\"\"\n",
    "    Encrypts the given data using the specified encryption algorithm.\n",
    "\n",
    "    Parameters:\n",
    "        data (bytes): The data to be encrypted.\n",
    "        encryption_func (str): The encryption algorithm to use (e.g., \"DES\", \"3DES\", \"AES\", \"ARC4\", \"CAST\").\n",
    "\n",
    "    Returns:\n",
    "        bytes: The encrypted data.\n",
    "    \"\"\"\n",
    "    \n",
    "    # Define keys and initialization vectors (IVs) for different encryption algorithms\n",
    "    key_des = b'`\\xc9\\x98\\xa6\\x0f\\x99@\\x0f'  # DES requires an 8-byte key\n",
    "    key_3des = b'\\xbf^\\xcd\\xda]#\\xae\\xad@\\xdc\\x16R\\x10@pWkL\\x13\\xb98\\x918\\xf8'  # 3DES requires a 24-byte key\n",
    "    key_aes = b'\\xb6\\x89\\xfa\\xaf\\xb4\\xa7\\x91b\\xdex\\x8b\\x1a\\xca~@-'  # AES requires a 16, 24, or 32-byte key\n",
    "    key_arc4 = b'\\xf5,MO\\xed\\x95!\\xdd\\xb1\\x17\\xb4u\\x15I\\xce\\x12'  # ARC4 key can be 1 to 256 bytes\n",
    "    key_cast = b'Q\\x1a\\xf8\\r\\x96\\x96\\xffa_[\\xd4\\x8dk\\xce\\x12\\xba'  # CAST128 key can be 5 to 16 bytes\n",
    "    \n",
    "    iv_des_3des_cast = b'g\\x03\\x95\\x86\\x13I\\x89\\x9c'  # IV for DES, 3DES, and CAST128 (8 bytes)\n",
    "    iv_aes = b'5\\x81\\xc5\\xa6\\x8d\\xda\\x19V\\x83\\x7f\\xa9E\\x98\\x94z\\xc1'  # IV for AES (16 bytes)\n",
    "\n",
    "    # DES\n",
    "    if encryption_func == \"DES\":\n",
    "        cipher = DES.new(key_des, DES.MODE_CBC, iv_des_3des_cast)\n",
    "        encrypted_data = cipher.encrypt(pad(data, DES.block_size))\n",
    "        \n",
    "    # 3DES\n",
    "    elif encryption_func == \"3DES\":\n",
    "        cipher = DES3.new(key_3des, DES3.MODE_CBC, iv_des_3des_cast)\n",
    "        encrypted_data = cipher.encrypt(pad(data, DES3.block_size))\n",
    "        \n",
    "    # AES\n",
    "    elif encryption_func == \"AES\":\n",
    "        cipher = AES.new(key_aes, AES.MODE_CBC, iv_aes)\n",
    "        encrypted_data = cipher.encrypt(pad(data, AES.block_size))\n",
    "    \n",
    "    # ARC4\n",
    "    elif encryption_func == \"ARC4\":\n",
    "        cipher = ARC4.new(key_arc4)\n",
    "        encrypted_data = cipher.encrypt(data)\n",
    "        \n",
    "    # CAST128\n",
    "    elif encryption_func == \"CAST\": \n",
    "        cipher = CAST.new(key_cast, CAST.MODE_CBC, iv_des_3des_cast)\n",
    "        encrypted_data = cipher.encrypt(pad(data, CAST.block_size))\n",
    "    else:\n",
    "        raise ValueError(f\"Unsupported encryption method: {encryption_func}\")\n",
    "\n",
    "    return encrypted_data"
   ]
  },
  {
   "cell_type": "code",
   "execution_count": 3,
   "id": "ced28f31-344c-4f91-89bc-9ff90c835fc0",
   "metadata": {},
   "outputs": [],
   "source": [
    "def decryption(data, decryption_func='DES'):\n",
    "    \"\"\"\n",
    "    Decrypts the given data using the specified decryption algorithm.\n",
    "\n",
    "    Parameters:\n",
    "        data (bytes): The data to be decrypted.\n",
    "        decryption_func (str): The decryption algorithm to use (e.g., \"DES\", \"3DES\", \"AES\", \"ARC4\", \"CAST\").\n",
    "\n",
    "    Returns:\n",
    "        bytes: The decrypted data.\n",
    "    \"\"\"\n",
    "    \n",
    "    # Define keys and initialization vectors (IVs) for different encryption algorithms\n",
    "    key_des = b'`\\xc9\\x98\\xa6\\x0f\\x99@\\x0f'  # DES requires an 8-byte key\n",
    "    key_3des = b'\\xbf^\\xcd\\xda]#\\xae\\xad@\\xdc\\x16R\\x10@pWkL\\x13\\xb98\\x918\\xf8'  # 3DES requires a 24-byte key\n",
    "    key_aes = b'\\xb6\\x89\\xfa\\xaf\\xb4\\xa7\\x91b\\xdex\\x8b\\x1a\\xca~@-'  # AES requires a 16, 24, or 32-byte key\n",
    "    key_arc4 = b'\\xf5,MO\\xed\\x95!\\xdd\\xb1\\x17\\xb4u\\x15I\\xce\\x12'  # ARC4 key can be 1 to 256 bytes\n",
    "    key_cast = b'Q\\x1a\\xf8\\r\\x96\\x96\\xffa_[\\xd4\\x8dk\\xce\\x12\\xba'  # CAST128 key can be 5 to 16 bytes\n",
    "    \n",
    "    iv_des_3des_cast = b'g\\x03\\x95\\x86\\x13I\\x89\\x9c'  # IV for DES, 3DES, and CAST128 (8 bytes)\n",
    "    iv_aes = b'5\\x81\\xc5\\xa6\\x8d\\xda\\x19V\\x83\\x7f\\xa9E\\x98\\x94z\\xc1'  # IV for AES (16 bytes)\n",
    "\n",
    "    # DES\n",
    "    if decryption_func == \"DES\":\n",
    "        cipher = DES.new(key_des, DES.MODE_CBC, iv_des_3des_cast)\n",
    "        decrypted_data = unpad(cipher.decrypt(data), DES.block_size)\n",
    "        \n",
    "    # 3DES\n",
    "    elif decryption_func == \"3DES\":\n",
    "        cipher = DES3.new(key_3des, DES3.MODE_CBC, iv_des_3des_cast)\n",
    "        decrypted_data = unpad(cipher.decrypt(data), DES3.block_size)\n",
    "        \n",
    "    # AES\n",
    "    elif decryption_func == \"AES\":\n",
    "        cipher = AES.new(key_aes, AES.MODE_CBC, iv_aes)\n",
    "        decrypted_data = unpad(cipher.decrypt(data), AES.block_size)\n",
    "        \n",
    "    # ARC4\n",
    "    elif decryption_func == \"ARC4\":\n",
    "        cipher = ARC4.new(key_arc4)\n",
    "        decrypted_data = cipher.decrypt(data)\n",
    "        \n",
    "    # CAST128\n",
    "    elif decryption_func == \"CAST\": \n",
    "        cipher = CAST.new(key_cast, CAST.MODE_CBC, iv_des_3des_cast)\n",
    "        decrypted_data = unpad(cipher.decrypt(data), CAST.block_size)\n",
    "\n",
    "    else:\n",
    "        raise ValueError(f\"Unsupported encryption method: {encryption_func}\")\n",
    "\n",
    "    return decrypted_data"
   ]
  },
  {
   "cell_type": "code",
   "execution_count": 4,
   "id": "3f512917-c546-4436-bdf3-70e66751e8b3",
   "metadata": {},
   "outputs": [],
   "source": [
    "# Convert bytes to decimal\n",
    "def byte_to_decimal(byte_data):\n",
    "    \"\"\"\n",
    "    Converts a bytes object to its decimal integer representation.\n",
    "\n",
    "    Parameters:\n",
    "        byte_data (bytes): The byte data to convert.\n",
    "\n",
    "    Returns:\n",
    "        int: The decimal integer representation of the byte data.\n",
    "    \"\"\"\n",
    "    decimal_value = int.from_bytes(byte_data, byteorder='big')\n",
    "    return decimal_value\n",
    "    \n",
    "# Convert decimal to bytes\n",
    "def decimal_to_byte(decimal_value):\n",
    "    \"\"\"\n",
    "    Converts a decimal integer to its bytes representation.\n",
    "\n",
    "    Parameters:\n",
    "        decimal_value (int): The decimal integer to convert.\n",
    "\n",
    "    Returns:\n",
    "        bytes: The bytes representation of the decimal integer.\n",
    "    \"\"\"\n",
    "    byte_data = decimal_value.to_bytes((decimal_value.bit_length() + 7) // 8, byteorder='big')\n",
    "    return byte_data"
   ]
  },
  {
   "cell_type": "code",
   "execution_count": 5,
   "id": "ac675aca-cdb5-4972-a5cb-5508e6ad90dd",
   "metadata": {},
   "outputs": [],
   "source": [
    "def lagrange_interpolation(x_points, y_points, x = 0):\n",
    "    \"\"\"\n",
    "    Perform Lagrange Interpolation.\n",
    "\n",
    "    Parameters:\n",
    "        x_points: List of x-coordinates of the data points\n",
    "        y_points: List of y-coordinates of the data points\n",
    "        x: The value at which the interpolated polynomial is evaluated\n",
    "\n",
    "    Returns:\n",
    "        The interpolated value at x\n",
    "    \"\"\"\n",
    "    n = len(x_points)\n",
    "    result = 0\n",
    "\n",
    "    for i in range(n):\n",
    "        # Compute L_i(x)\n",
    "        L_i = 1\n",
    "        for j in range(n):\n",
    "            if i != j:\n",
    "                L_i *= (x - x_points[j]) / (x_points[i] - x_points[j])\n",
    "        \n",
    "        # Add contribution of y_i * L_i(x)\n",
    "        result += y_points[i] * L_i\n",
    "\n",
    "    return result"
   ]
  },
  {
   "cell_type": "code",
   "execution_count": 6,
   "id": "89d0935e-9148-4e6e-912d-180570d4a2f5",
   "metadata": {},
   "outputs": [
    {
     "data": {
      "text/plain": [
       "[14, 47, 67, 7, 1234]"
      ]
     },
     "execution_count": 6,
     "metadata": {},
     "output_type": "execute_result"
    }
   ],
   "source": [
    "def get_polynomial(secret, k):\n",
    "    \"\"\"\n",
    "    Generates the coefficients of a polynomial with a given secret as the constant term.\n",
    "\n",
    "    Parameters:\n",
    "        secret (int): The secret value to be used as the constant term of the polynomial.\n",
    "        k (int): The degree of the polynomial plus one (total number of coefficients, including the constant term).\n",
    "\n",
    "    Returns:\n",
    "        list: A list of integers representing the coefficients of the polynomial, \n",
    "              where the last coefficient is the secret.\n",
    "    \"\"\"\n",
    "    coefficients = [random.randint(1, 100) for _ in range(k-1)]\n",
    "    coefficients.append(secret)\n",
    "    return coefficients\n",
    "\n",
    "# For Example\n",
    "get_polynomial(1234,5)"
   ]
  },
  {
   "cell_type": "code",
   "execution_count": 7,
   "id": "23bba103-07d9-4835-8273-ca06e278aab2",
   "metadata": {},
   "outputs": [
    {
     "name": "stdout",
     "output_type": "stream",
     "text": [
      "[1, 2, 3, 4, 5, 6, 7, 8, 9, 10]\n",
      "[1468, 3094, 9136, 24610, 56524, 113878, 207664, 350866, 558460, 847414]\n"
     ]
    }
   ],
   "source": [
    "def get_uniqueID_and_share(secret, k, n):\n",
    "    \"\"\"\n",
    "    Generates unique IDs and their corresponding shares based on a secret and polynomial coefficients.\n",
    "\n",
    "    This function uses the concept of Shamir's Secret Sharing scheme to generate `n` unique shares \n",
    "    from a polynomial of degree `k-1`, with the secret as the constant term.\n",
    "\n",
    "    Parameters:\n",
    "        secret (int): The secret value to be shared.\n",
    "        k (int): The minimum number of shares required to reconstruct the secret.\n",
    "        n (int): The total number of shares to generate.\n",
    "\n",
    "    Returns:\n",
    "        tuple: A tuple containing:\n",
    "            - unique_ids (list): A list of unique IDs (x-values) for the shares.\n",
    "            - shares (list): A list of corresponding shares (y-values) computed from the polynomial.\n",
    "    \"\"\"\n",
    "    \n",
    "    cofficients = get_polynomial(secret, k)\n",
    "    unique_ids = [x for x in range(1,1+n)]\n",
    "    degree = k-1\n",
    "    shares = []\n",
    "    for unique_id in unique_ids:\n",
    "        share = 0\n",
    "        for c in cofficients:\n",
    "            share += c * (unique_id**degree)\n",
    "            degree -= 1\n",
    "        shares.append(share)\n",
    "        degree = k-1\n",
    "    return unique_ids, shares\n",
    "    \n",
    "# For Example\n",
    "unique_ids, shares = get_uniqueID_and_share(1234, 5, 10)\n",
    "print(unique_ids)\n",
    "print(shares)"
   ]
  },
  {
   "cell_type": "markdown",
   "id": "219d5484-c26f-45ba-b7af-06a23f389ba7",
   "metadata": {},
   "source": [
    "# Encryption Stage"
   ]
  },
  {
   "cell_type": "code",
   "execution_count": 8,
   "id": "80bc6e3f-df68-430e-ad4b-7bd5c683958b",
   "metadata": {},
   "outputs": [
    {
     "name": "stdin",
     "output_type": "stream",
     "text": [
      "Enter number of members:  10\n",
      "Enter number of members required to generate secret:  5\n",
      "Enter Secret Key:  1234\n"
     ]
    }
   ],
   "source": [
    "# Get number of member \n",
    "n = int(input(\"Enter number of members: \"))\n",
    "\n",
    "# Get minimum number of members required to generate secret Key\n",
    "k = int(input(\"Enter number of members required to generate secret: \"))\n",
    "\n",
    "#Get Secret Key\n",
    "secret = int(input(\"Enter Secret Key: \"))\n",
    "\n",
    "unique_ids, shares = get_uniqueID_and_share(secret, k, n)"
   ]
  },
  {
   "cell_type": "code",
   "execution_count": 9,
   "id": "81f73ca1-0d81-4abc-b2c4-b32b8f397f6d",
   "metadata": {},
   "outputs": [
    {
     "name": "stdin",
     "output_type": "stream",
     "text": [
      "Select an Encryption Function:\n",
      " 1. DES\n",
      " 2. 3DES\n",
      " 3. AES\n",
      " 4. ARC4\n",
      " 5. CAST\n",
      "  1\n"
     ]
    },
    {
     "name": "stdout",
     "output_type": "stream",
     "text": [
      "Selected function: DES\n"
     ]
    }
   ],
   "source": [
    "# Get encryption function\n",
    "encryption_func_value = int(input(\"Select an Encryption Function:\\n 1. DES\\n 2. 3DES\\n 3. AES\\n 4. ARC4\\n 5. CAST\\n \"))\n",
    "\n",
    "if encryption_func_value == 1:\n",
    "    encryption_func = \"DES\"\n",
    "    print(\"Selected function: DES\")\n",
    "elif encryption_func_value == 2:\n",
    "    encryption_func = \"3DES\"\n",
    "    print(\"Selected function: 3DES\")\n",
    "elif encryption_func_value == 3:\n",
    "    encryption_func = \"AES\"\n",
    "    print(\"Selected function: AES\")\n",
    "elif encryption_func_value == 4:\n",
    "    encryption_func = \"ARC4\"\n",
    "    print(\"Selected function: ARC4\")\n",
    "elif encryption_func_value == 5:\n",
    "    encryption_func = \"CAST\"\n",
    "    print(\"Selected function: CAST\")\n",
    "else:\n",
    "    print(\"Incorrect Function Type!!\")"
   ]
  },
  {
   "cell_type": "code",
   "execution_count": 10,
   "id": "80bee7d9-99b4-4757-a6ad-ca31de75b5a0",
   "metadata": {},
   "outputs": [
    {
     "data": {
      "text/plain": [
       "([b'\\x01',\n",
       "  b'\\x02',\n",
       "  b'\\x03',\n",
       "  b'\\x04',\n",
       "  b'\\x05',\n",
       "  b'\\x06',\n",
       "  b'\\x07',\n",
       "  b'\\x08',\n",
       "  b'\\t',\n",
       "  b'\\n'],\n",
       " [b'\\x05\\xb8',\n",
       "  b'\\x0c\\x10',\n",
       "  b'\"<',\n",
       "  b'XV',\n",
       "  b'\\xc40',\n",
       "  b'\\x01\\x81T',\n",
       "  b'\\x02\\xb1\\x04',\n",
       "  b'\\x04z:',\n",
       "  b'\\x07\\t\\xa8',\n",
       "  b'\\n\\x91\\xb8'])"
      ]
     },
     "execution_count": 10,
     "metadata": {},
     "output_type": "execute_result"
    }
   ],
   "source": [
    "# Convert ids and shares from decimal to bytes\n",
    "bytes_unique_ids = [decimal_to_byte(unique_id) for unique_id in unique_ids]\n",
    "bytes_shares = [decimal_to_byte(share) for share in shares]\n",
    "bytes_unique_ids, bytes_shares"
   ]
  },
  {
   "cell_type": "code",
   "execution_count": 11,
   "id": "b5e82fdb-713b-4437-a849-b583920b4aff",
   "metadata": {},
   "outputs": [
    {
     "data": {
      "text/plain": [
       "([b'\\xc6\\x15\\x91\\x90\\xf5\\x88\\x91\\x1f',\n",
       "  b'H\\xbbn\\x92P\\xa5\\xbb\\xb1',\n",
       "  b';r\\xf9\\xf4\\xa1\\xde\\x11+',\n",
       "  b'\\xa8at9\\xba\\x0f\\xf6\\x94',\n",
       "  b'\\xaa2R\\x91N+\\xe2\\xc5',\n",
       "  b'\\x9egm\\xd6\\x1f\\x98\\xdd/',\n",
       "  b'\\x10\\xe7\\xc7\\x8a\\x8abcJ',\n",
       "  b'\\x0f\\xf2+\\xd5\\x93mt\\xb5',\n",
       "  b'F\\xeb~x\\xdb\\xeaZ\\xd2',\n",
       "  b'\\xd6\\xfcI\\xf7\\xc7\\xe07f'],\n",
       " [b'\\x8d\\xa7\\xfc\\x031G\\x933',\n",
       "  b'\\x962\\x12gpdI\\n',\n",
       "  b'\\x82\\x0cw\\xf8\\xbc2a\\xc6',\n",
       "  b'5\\xb1`,Q\\xabl\\x8d',\n",
       "  b'\\xe7\\x00 s\\xfa\\x7fG\\xd5',\n",
       "  b'Z4\\xf7\\x166\\x03\\xfa\\xef',\n",
       "  b'\\x0c\\xc0\\xb2l\\x87\\x03\\xa2R',\n",
       "  b'\\xda(\\x10\\xca\\xf0+\\x04\\x18',\n",
       "  b'\\xd1\\xee\\x97\\x95\\xc3T\\xb7\\x8c',\n",
       "  b\"\\xcc\\x8eu'\\x0b\\xd2\\xd0s\"])"
      ]
     },
     "execution_count": 11,
     "metadata": {},
     "output_type": "execute_result"
    }
   ],
   "source": [
    "# Encryt Unique Ids and Shares\n",
    "encrypted_unique_ids = [encryption(unique_id, encryption_func) for unique_id in bytes_unique_ids]\n",
    "encrypted_shares = [encryption(share, encryption_func) for share in bytes_shares]\n",
    "encrypted_unique_ids, encrypted_shares"
   ]
  },
  {
   "cell_type": "code",
   "execution_count": 12,
   "id": "17cb32f8-f347-46bd-a254-d4ebdc01aaf2",
   "metadata": {},
   "outputs": [
    {
     "data": {
      "text/plain": [
       "([14273474645801341215,\n",
       "  5240904166073023409,\n",
       "  4283761024665784619,\n",
       "  12133106662396393108,\n",
       "  12263955519318516421,\n",
       "  11414212547014352175,\n",
       "  1218161622068126538,\n",
       "  1149029051234350261,\n",
       "  5110317259732703954,\n",
       "  15491338146806773606],\n",
       " [10207404171100394291,\n",
       "  10822733090001275146,\n",
       "  9370996834844172742,\n",
       "  3868979298352983181,\n",
       "  16645339905257326549,\n",
       "  6500091836970040047,\n",
       "  918930503174955602,\n",
       "  15719832963135505432,\n",
       "  15127194867867105164,\n",
       "  14739847440992751731])"
      ]
     },
     "execution_count": 12,
     "metadata": {},
     "output_type": "execute_result"
    }
   ],
   "source": [
    "# Convert ids and shares to user readable decimal format\n",
    "encrypted_unique_ids = [byte_to_decimal(unique_id) for unique_id in encrypted_unique_ids]\n",
    "encrypted_shares = [byte_to_decimal(share) for share in encrypted_shares]\n",
    "encrypted_unique_ids, encrypted_shares"
   ]
  },
  {
   "cell_type": "markdown",
   "id": "91a27c83-6fdd-452f-b469-294e8486928a",
   "metadata": {},
   "source": [
    "# Decryption Stage"
   ]
  },
  {
   "cell_type": "code",
   "execution_count": 13,
   "id": "b5d8d8b9-1f97-47c0-9626-25497681b9c5",
   "metadata": {},
   "outputs": [
    {
     "name": "stdout",
     "output_type": "stream",
     "text": [
      "Enter atleast 5 pairs of unique ids and shares\n"
     ]
    },
    {
     "name": "stdin",
     "output_type": "stream",
     "text": [
      "Enter Id: 14273474645801341215\n",
      "Enter Corresponding Share: 12569928172220221977\n",
      "Enter Id: 5240904166073023409\n",
      "Enter Corresponding Share: 4019553605964139415\n",
      "Enter Id: 4283761024665784619\n",
      "Enter Corresponding Share: 17859154192713726847\n",
      "Enter Id: 12133106662396393108\n",
      "Enter Corresponding Share: 11519957922990256374\n",
      "Enter Id: 12263955519318516421\n",
      "Enter Corresponding Share: 260302386392070680\n"
     ]
    },
    {
     "data": {
      "text/plain": [
       "([14273474645801341215,\n",
       "  5240904166073023409,\n",
       "  4283761024665784619,\n",
       "  12133106662396393108,\n",
       "  12263955519318516421],\n",
       " [12569928172220221977,\n",
       "  4019553605964139415,\n",
       "  17859154192713726847,\n",
       "  11519957922990256374,\n",
       "  260302386392070680])"
      ]
     },
     "execution_count": 13,
     "metadata": {},
     "output_type": "execute_result"
    }
   ],
   "source": [
    "# Get k Ids and Shares from the user\n",
    "k_ids = []\n",
    "k_shares = []\n",
    "print(f\"Enter atleast {k} pairs of unique ids and shares\")\n",
    "for i in range(k):\n",
    "    k_ids.append(int(input(\"Enter Id:\")))\n",
    "    k_shares.append(int(input(\"Enter Corresponding Share:\")))\n",
    "k_ids, k_shares"
   ]
  },
  {
   "cell_type": "code",
   "execution_count": 14,
   "id": "8571e297-898f-4b79-ab2a-18d6dfc5eb06",
   "metadata": {},
   "outputs": [
    {
     "data": {
      "text/plain": [
       "([b'\\xc6\\x15\\x91\\x90\\xf5\\x88\\x91\\x1f',\n",
       "  b'H\\xbbn\\x92P\\xa5\\xbb\\xb1',\n",
       "  b';r\\xf9\\xf4\\xa1\\xde\\x11+',\n",
       "  b'\\xa8at9\\xba\\x0f\\xf6\\x94',\n",
       "  b'\\xaa2R\\x91N+\\xe2\\xc5'],\n",
       " [b'\\xaeq[\\x13\\x05\\\\\\x8a\\x19',\n",
       "  b'7\\xc8R\\xb5G\"\\x0b\\x97',\n",
       "  b'\\xf7\\xd8v\\x1d\\xcd\\xa1;\\x7f',\n",
       "  b'\\x9f\\xdf\\x1c\\xb2\\x13G\\xf0\\xf6',\n",
       "  b'\\x03\\x9c\\xc7\\xa4+\\x15\\xfa\\x18'])"
      ]
     },
     "execution_count": 14,
     "metadata": {},
     "output_type": "execute_result"
    }
   ],
   "source": [
    "# Convert ids and shares to bytes format for decryption\n",
    "encrypted_unique_ids = [decimal_to_byte(unique_id) for unique_id in k_ids]\n",
    "encrypted_shares = [decimal_to_byte(share) for share in k_shares]\n",
    "encrypted_unique_ids, encrypted_shares"
   ]
  },
  {
   "cell_type": "code",
   "execution_count": 15,
   "id": "7156b228-32e6-4c74-aca4-bd4a99bc9012",
   "metadata": {},
   "outputs": [
    {
     "data": {
      "text/plain": [
       "([b'\\x01', b'\\x02', b'\\x03', b'\\x04', b'\\x05'],\n",
       " [b'\\x05\\xb2', b'\\n\\xc2', b'\\x1b\\xc4', b'Dj', b'\\x94V'])"
      ]
     },
     "execution_count": 15,
     "metadata": {},
     "output_type": "execute_result"
    }
   ],
   "source": [
    "# Decryt Unique Ids and Shares\n",
    "decrypted_unique_ids = [decryption(unique_id,  encryption_func) for unique_id in encrypted_unique_ids]\n",
    "decrypted_shares = [decryption(share, encryption_func) for share in encrypted_shares]\n",
    "decrypted_unique_ids, decrypted_shares"
   ]
  },
  {
   "cell_type": "code",
   "execution_count": 16,
   "id": "abf6a5bd-f287-42ce-af9f-ee2d6e42cc23",
   "metadata": {},
   "outputs": [
    {
     "data": {
      "text/plain": [
       "([1, 2, 3, 4, 5], [1458, 2754, 7108, 17514, 37974])"
      ]
     },
     "execution_count": 16,
     "metadata": {},
     "output_type": "execute_result"
    }
   ],
   "source": [
    "# Convert ids and shares from bytes to decimal\n",
    "de_unique_ids = [byte_to_decimal(unique_id) for unique_id in decrypted_unique_ids]\n",
    "de_shares = [byte_to_decimal(share) for share in decrypted_shares]\n",
    "de_unique_ids, de_shares"
   ]
  },
  {
   "cell_type": "code",
   "execution_count": 17,
   "id": "6fc2a536-718d-496d-91c4-99133fd7dc20",
   "metadata": {},
   "outputs": [
    {
     "name": "stdout",
     "output_type": "stream",
     "text": [
      "Secret is 1234\n"
     ]
    }
   ],
   "source": [
    "# Use Lagrange's Interpolation for Secret Generation\n",
    "secret = lagrange_interpolation(de_unique_ids, de_shares)\n",
    "print(f\"Secret is {int(secret)}\")"
   ]
  },
  {
   "cell_type": "markdown",
   "id": "8ad5c4dd-090c-4bf7-9bd9-222be52a2831",
   "metadata": {},
   "source": [
    "### If provided k ids and shares are incorrect then the output secret is incorrect and useless"
   ]
  }
 ],
 "metadata": {
  "kernelspec": {
   "display_name": "Python 3 (ipykernel)",
   "language": "python",
   "name": "python3"
  },
  "language_info": {
   "codemirror_mode": {
    "name": "ipython",
    "version": 3
   },
   "file_extension": ".py",
   "mimetype": "text/x-python",
   "name": "python",
   "nbconvert_exporter": "python",
   "pygments_lexer": "ipython3",
   "version": "3.10.1"
  }
 },
 "nbformat": 4,
 "nbformat_minor": 5
}
